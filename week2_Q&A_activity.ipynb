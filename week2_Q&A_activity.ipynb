{
  "nbformat": 4,
  "nbformat_minor": 0,
  "metadata": {
    "kernelspec": {
      "display_name": "Python 3",
      "language": "python",
      "name": "python3"
    },
    "language_info": {
      "codemirror_mode": {
        "name": "ipython",
        "version": 3
      },
      "file_extension": ".py",
      "mimetype": "text/x-python",
      "name": "python",
      "nbconvert_exporter": "python",
      "pygments_lexer": "ipython3",
      "version": "3.7.6"
    },
    "colab": {
      "name": "Q&A_activity_student_file.ipynb",
      "provenance": [],
      "collapsed_sections": []
    }
  },
  "cells": [
    {
      "cell_type": "markdown",
      "metadata": {
        "id": "4z_Z-K1tlrS7"
      },
      "source": [
        "## 1. Complete the following code to find the area of an equilateral triangle. Output should be as displayed"
      ]
    },
    {
      "cell_type": "code",
      "metadata": {
        "id": "rP2qFD_SlrS_",
        "colab": {
          "base_uri": "https://localhost:8080/"
        },
        "outputId": "89ce6d13-c1cd-4cee-84c3-afc153c8d4a6"
      },
      "source": [
        "import math\n",
        "side = float(input(\"Enter the side of the equilateral triangle: \"))\n",
        "area = ((math.sqrt(3))/4)*pow(side,2)\n",
        "print('Area = ',round(area,3))\n"
      ],
      "execution_count": 3,
      "outputs": [
        {
          "output_type": "stream",
          "name": "stdout",
          "text": [
            "Enter the side of the equilateral triangle: 5\n",
            "Area =  10.825\n"
          ]
        }
      ]
    },
    {
      "cell_type": "markdown",
      "metadata": {
        "id": "TjVKjIfclrTB"
      },
      "source": [
        "## 2. Write a program to count the number of each characters in a string"
      ]
    },
    {
      "cell_type": "code",
      "metadata": {
        "id": "JY5seVUQlrTC",
        "colab": {
          "base_uri": "https://localhost:8080/"
        },
        "outputId": "24d2a558-b76e-404b-8741-548d5a2744ee"
      },
      "source": [
        "string=input('Enter the string: ')\n",
        "d={}\n",
        "for ch in string:\n",
        "  d[ch]=d.get(ch,0)+1\n",
        "for key,value in sorted(d.items()):\n",
        "  print(key,'occurs',value,'times')"
      ],
      "execution_count": 6,
      "outputs": [
        {
          "output_type": "stream",
          "name": "stdout",
          "text": [
            "Enter the string: python programming\n",
            "  occurs 1 times\n",
            "a occurs 1 times\n",
            "g occurs 2 times\n",
            "h occurs 1 times\n",
            "i occurs 1 times\n",
            "m occurs 2 times\n",
            "n occurs 2 times\n",
            "o occurs 2 times\n",
            "p occurs 2 times\n",
            "r occurs 2 times\n",
            "t occurs 1 times\n",
            "y occurs 1 times\n"
          ]
        }
      ]
    },
    {
      "cell_type": "markdown",
      "metadata": {
        "id": "l3LCULfklrTD"
      },
      "source": [
        "## Write a program to find the area and perimeter of a rectangle using functions"
      ]
    },
    {
      "cell_type": "code",
      "metadata": {
        "id": "8haQD8edlrTD",
        "colab": {
          "base_uri": "https://localhost:8080/"
        },
        "outputId": "bdf9a7d9-6311-4c85-9b65-87a2819167a2"
      },
      "source": [
        "def area_of_rect(l,b):\n",
        "  return l*b\n",
        "def perimeter_of_rect(l,b):\n",
        "  return 2*(l+b)\n",
        "l=float(input('Enter the length of rectangle: '))\n",
        "b=float(input('Enter the breadth of rectangle: '))\n",
        "print('Area of rectangle = ',area_of_rect(l,b),'\\nPerimeter of rectangle = ',perimeter_of_rect(l,b))\n",
        "\n"
      ],
      "execution_count": 4,
      "outputs": [
        {
          "output_type": "stream",
          "name": "stdout",
          "text": [
            "Enter the length of rectangle: 12\n",
            "Enter the breadth of rectangle: 8\n",
            "Area of rectangle =  96 \n",
            "Perimeter of rectangle =  40\n"
          ]
        }
      ]
    },
    {
      "cell_type": "markdown",
      "metadata": {
        "id": "JHK4ZdsflrTE"
      },
      "source": [
        "## 4. Write a program to print the fibonacci series till a specified number"
      ]
    },
    {
      "cell_type": "code",
      "metadata": {
        "id": "LyBEj-4SlrTE",
        "colab": {
          "base_uri": "https://localhost:8080/"
        },
        "outputId": "8a5b7efd-8136-41bf-deaf-6dc717354862"
      },
      "source": [
        "bound=int(input('Enter the bound upto which fibonacci series is required: '))\n",
        "a,b=0,1\n",
        "while(a<=bound):\n",
        "  print(a,end=' ')\n",
        "  a,b=b,a+b    "
      ],
      "execution_count": 11,
      "outputs": [
        {
          "output_type": "stream",
          "name": "stdout",
          "text": [
            "Enter the bound upto which fibonacci series is required: 30\n",
            "0 1 1 2 3 5 8 13 21 "
          ]
        }
      ]
    },
    {
      "cell_type": "markdown",
      "metadata": {
        "id": "u4uBUcQKlrTE"
      },
      "source": [
        "## 5. Complete the following code to find the minimum of 3 number using conditional statements. Output should be as displayed"
      ]
    },
    {
      "cell_type": "code",
      "metadata": {
        "id": "XdZwrZjIlrTF",
        "colab": {
          "base_uri": "https://localhost:8080/"
        },
        "outputId": "e3f33603-859d-422f-984a-c92342712d8e"
      },
      "source": [
        "a,b,c = input(\"Enter three numbers followed by  : \").split()\n",
        "\n",
        "print(\"First number :\",a)\n",
        "print(\"Second number :\",b)\n",
        "print(\"Third number :\",c)\n",
        "\n",
        "if a==b==c:\n",
        "    print(\"Entered numbers are equal!!!\")\n",
        "elif a<=b and a<=c:\n",
        "    print(a,\" is smallest\")\n",
        "elif b<=a and b<=c:\n",
        "    print(b,\" is smallest\")\n",
        "else:\n",
        "    print(c,\" is smallest\")"
      ],
      "execution_count": 9,
      "outputs": [
        {
          "output_type": "stream",
          "name": "stdout",
          "text": [
            "Enter three numbers followed by  : -19 -100 -9\n",
            "First number : -19\n",
            "Second number : -100\n",
            "Third number : -9\n",
            "-100  is smallest\n"
          ]
        }
      ]
    },
    {
      "cell_type": "markdown",
      "metadata": {
        "id": "aR_CnToWlrTG"
      },
      "source": [
        "## 6. Write a program to print star pyramind. The number of rows should be taken as input from the user"
      ]
    },
    {
      "cell_type": "code",
      "metadata": {
        "colab": {
          "base_uri": "https://localhost:8080/"
        },
        "id": "M37A-buplrTG",
        "outputId": "f778512e-32b8-4a96-c630-d87dc4462c47"
      },
      "source": [
        "num=int(input('Enter the number of rows: '))\n",
        "for i in range(0,num):\n",
        "  for j in range(0,i+1):\n",
        "    print('*',end=' ')\n",
        "  print()   "
      ],
      "execution_count": 15,
      "outputs": [
        {
          "output_type": "stream",
          "name": "stdout",
          "text": [
            "Enter the number of rows: 5\n",
            "* \n",
            "* * \n",
            "* * * \n",
            "* * * * \n",
            "* * * * * \n"
          ]
        }
      ]
    },
    {
      "cell_type": "markdown",
      "metadata": {
        "id": "tlY6aFWBlrTH"
      },
      "source": [
        "## 7. Complete the following code to convert hour into seconds. Output should be as displayed"
      ]
    },
    {
      "cell_type": "code",
      "metadata": {
        "id": "YOZQFk7FlrTH",
        "colab": {
          "base_uri": "https://localhost:8080/"
        },
        "outputId": "d4c1bc65-28f9-4d8b-f5cf-af31f91926c2"
      },
      "source": [
        "def to_seconds(t):\n",
        "    return t*60*60\n",
        "time_in_hours = float(input('Enter time in Hours: ' ))\n",
        "print(time_in_hours ,\" Hour is equal to\" ,to_seconds(time_in_hours) ,\" Seconds\")"
      ],
      "execution_count": 21,
      "outputs": [
        {
          "output_type": "stream",
          "name": "stdout",
          "text": [
            "Enter time in Hours: 24\n",
            "24.0  Hour is equal to 86400.0  Seconds\n"
          ]
        }
      ]
    },
    {
      "cell_type": "markdown",
      "metadata": {
        "id": "CnYorNiLlrTI"
      },
      "source": [
        "## 8. Write a program to print multiplication table as below"
      ]
    },
    {
      "cell_type": "code",
      "metadata": {
        "id": "dPQqDPuDlrTI",
        "colab": {
          "base_uri": "https://localhost:8080/"
        },
        "outputId": "33da81ca-3114-4ec4-ec8f-7113cbf331c7"
      },
      "source": [
        "num=int(input('Enter a number to find the multiplication table: '))\n",
        "for i in range(1,11):\n",
        "  res=i*num\n",
        "  print(i,'x',num,'=',res)"
      ],
      "execution_count": 23,
      "outputs": [
        {
          "output_type": "stream",
          "name": "stdout",
          "text": [
            "Enter a number to find the multiplication table: 67\n",
            "1 x 67 = 67\n",
            "2 x 67 = 134\n",
            "3 x 67 = 201\n",
            "4 x 67 = 268\n",
            "5 x 67 = 335\n",
            "6 x 67 = 402\n",
            "7 x 67 = 469\n",
            "8 x 67 = 536\n",
            "9 x 67 = 603\n",
            "10 x 67 = 670\n"
          ]
        }
      ]
    },
    {
      "cell_type": "markdown",
      "metadata": {
        "id": "Fiaez8iblrTI"
      },
      "source": [
        "## 9. Write a program to take your 5 favorite food as list and print each as 'I like Biriyani'"
      ]
    },
    {
      "cell_type": "code",
      "metadata": {
        "id": "39W1zFX7lrTJ",
        "colab": {
          "base_uri": "https://localhost:8080/"
        },
        "outputId": "691951ca-6b1f-4ad0-b7e0-c3002f5ad779"
      },
      "source": [
        "food_items=list(input('Enter 5 favorite food: ').split(','))\n",
        "for i in food_items:\n",
        "  print('I like',i)"
      ],
      "execution_count": 25,
      "outputs": [
        {
          "output_type": "stream",
          "name": "stdout",
          "text": [
            "Enter 5 favorite food: Rice meal,Biriyani,Dosa,Idli,Appam\n",
            "I like Rice meal\n",
            "I like Biriyani\n",
            "I like Dosa\n",
            "I like Idli\n",
            "I like Appam\n"
          ]
        }
      ]
    }
  ]
}