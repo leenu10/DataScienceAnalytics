{
  "nbformat": 4,
  "nbformat_minor": 0,
  "metadata": {
    "colab": {
      "name": "practice_problems.ipynb",
      "provenance": []
    },
    "kernelspec": {
      "name": "python3",
      "display_name": "Python 3"
    },
    "language_info": {
      "name": "python"
    }
  },
  "cells": [
    {
      "cell_type": "markdown",
      "metadata": {
        "id": "Avumyny03YMm"
      },
      "source": [
        "1. Area of circle"
      ]
    },
    {
      "cell_type": "code",
      "metadata": {
        "colab": {
          "base_uri": "https://localhost:8080/"
        },
        "id": "mAOFow5s3D68",
        "outputId": "a41a530d-e7be-43f1-f4dd-42aad9058c37"
      },
      "source": [
        "#inputing radius\n",
        "r = float(input('Enter the radius:'))\n",
        "\n",
        "#calculating area\n",
        "area = 3.14*r*r\n",
        "\n",
        "#displaying area\n",
        "print('\\nThe area of the circle is', area)"
      ],
      "execution_count": null,
      "outputs": [
        {
          "output_type": "stream",
          "text": [
            "Enter the radius:3.1\n",
            "\n",
            "The area of the circle is 30.1754\n"
          ],
          "name": "stdout"
        }
      ]
    },
    {
      "cell_type": "markdown",
      "metadata": {
        "id": "sEFYEmeD3ccT"
      },
      "source": [
        "2. Print details"
      ]
    },
    {
      "cell_type": "code",
      "metadata": {
        "colab": {
          "base_uri": "https://localhost:8080/"
        },
        "id": "yKDNtEwx3MG_",
        "outputId": "068897a9-3c1a-40ce-9395-cabd31602252"
      },
      "source": [
        "#inputing name\n",
        "name = input('Enter name of the student:')\n",
        "\n",
        "#inputing roll number\n",
        "r_no = int(input('Enter roll number of the student:'))\n",
        "\n",
        "#inputing marks\n",
        "marks = int(input('Enter mark of the student:'))\n",
        "\n",
        "#printing all the inputed values\n",
        "print('\\nName:', name)\n",
        "print('Roll number:', r_no)\n",
        "print('Mark:', marks )"
      ],
      "execution_count": null,
      "outputs": [
        {
          "output_type": "stream",
          "text": [
            "Enter name of the student:John\n",
            "Enter roll number of the student:27\n",
            "Enter mark of the student:97\n",
            "\n",
            "Name: John\n",
            "Roll number 27\n",
            "Mark: 97\n"
          ],
          "name": "stdout"
        }
      ]
    },
    {
      "cell_type": "markdown",
      "metadata": {
        "id": "0vFI8rz-3ynI"
      },
      "source": [
        "3. Maximum value in a list"
      ]
    },
    {
      "cell_type": "code",
      "metadata": {
        "colab": {
          "base_uri": "https://localhost:8080/"
        },
        "id": "-dbTSFk_3xfS",
        "outputId": "53527afb-f293-4c92-d838-094036f2a4ee"
      },
      "source": [
        "# method 1\n",
        "#entering list values\n",
        "l1 = [1,2,3,4]\n",
        "\n",
        "#printing maximum value in the list\n",
        "print('Maximum value in', l1, 'is', max(l1))"
      ],
      "execution_count": null,
      "outputs": [
        {
          "output_type": "stream",
          "text": [
            "Maximum value in [1, 2, 3, 4] is 4\n"
          ],
          "name": "stdout"
        }
      ]
    },
    {
      "cell_type": "code",
      "metadata": {
        "colab": {
          "base_uri": "https://localhost:8080/"
        },
        "id": "X8u2yuyO68Xm",
        "outputId": "607835ec-fe70-4ded-832b-1ffd818c434e"
      },
      "source": [
        "# method 2\n",
        "#creating an empty list to take values\n",
        "l2 = []\n",
        "\n",
        "#inputing number of elements in the list\n",
        "num = int(input('Enter number of list elements: '))\n",
        "\n",
        "#converting the number of elements to a list\n",
        "r = range(num)\n",
        "\n",
        "#inputing the list elements\n",
        "i = 0\n",
        "for i in r:\n",
        "    a = int(input('Enter list elements: '))\n",
        "    l2.append(a)\n",
        "    i = i+i\n",
        "\n",
        "#printing maximum value in the list\n",
        "print('\\nMaximum value in', l2, 'is', max(l2))"
      ],
      "execution_count": null,
      "outputs": [
        {
          "output_type": "stream",
          "text": [
            "Enter number of list elements: 3\n",
            "Enter list elements: 1\n",
            "Enter list elements: 2\n",
            "Enter list elements: 3\n",
            "\n",
            "Maximum value in [1, 2, 3] is 3\n"
          ],
          "name": "stdout"
        }
      ]
    },
    {
      "cell_type": "markdown",
      "metadata": {
        "id": "cQxR3jkl7HAc"
      },
      "source": [
        "4. Charecters in string"
      ]
    },
    {
      "cell_type": "code",
      "metadata": {
        "colab": {
          "base_uri": "https://localhost:8080/"
        },
        "id": "JtrJd-1J7Ced",
        "outputId": "8cf8ee50-40a5-4304-dc9b-63d907ff6d99"
      },
      "source": [
        "# inputing string \n",
        "test_str = input(\" Enter the string: \")\n",
        "  \n",
        "# counting characters \n",
        "all_freq = {}\n",
        "  \n",
        "for i in test_str:\n",
        "    if i in all_freq:\n",
        "        all_freq[i] += 1\n",
        "    else:\n",
        "        all_freq[i] = 1\n",
        "  \n",
        "# printing result \n",
        "print ('Count of all characters in',test_str,' is :\\n ', str(all_freq))"
      ],
      "execution_count": null,
      "outputs": [
        {
          "output_type": "stream",
          "text": [
            " Enter the string: My name is John\n",
            "Count of all characters in My name is John  is :\n",
            "  {'M': 1, 'y': 1, ' ': 3, 'n': 2, 'a': 1, 'm': 1, 'e': 1, 'i': 1, 's': 1, 'J': 1, 'o': 1, 'h': 1}\n"
          ],
          "name": "stdout"
        }
      ]
    },
    {
      "cell_type": "markdown",
      "metadata": {
        "id": "aIRZFfGd7U3r"
      },
      "source": [
        "5. Copying values in a tuple"
      ]
    },
    {
      "cell_type": "code",
      "metadata": {
        "colab": {
          "base_uri": "https://localhost:8080/"
        },
        "id": "DHjn9SCh7Ocy",
        "outputId": "e814bbb5-4cf7-475c-86ab-899da5b529fc"
      },
      "source": [
        "#taking vales to tuple\n",
        "t1 = (11, 22, 33, 44, 55, 66)\n",
        "\n",
        "#copying values to new tuple\n",
        "t2 = t1[3:-1]\n",
        "\n",
        "#printing output\n",
        "print(t2)"
      ],
      "execution_count": null,
      "outputs": [
        {
          "output_type": "stream",
          "text": [
            "(44, 55)\n"
          ],
          "name": "stdout"
        }
      ]
    },
    {
      "cell_type": "markdown",
      "metadata": {
        "id": "4e81PMJC7lU4"
      },
      "source": [
        "6. Sum of successive numbers"
      ]
    },
    {
      "cell_type": "code",
      "metadata": {
        "colab": {
          "base_uri": "https://localhost:8080/"
        },
        "id": "w4OaOwRW7f-k",
        "outputId": "fe1fe369-da32-45ab-dde2-3f27e7728896"
      },
      "source": [
        "#taking first 10 numbers\n",
        "l = range(1,11)\n",
        "\n",
        "#calculating sum of current number and previous number\n",
        "for i in l:\n",
        "    j = i-1\n",
        "    sum1 = i+j\n",
        "    #printing the sum of current and previous number\n",
        "    print('The sum of current number',i,'and previous number',j,'is', sum1)"
      ],
      "execution_count": null,
      "outputs": [
        {
          "output_type": "stream",
          "text": [
            "The sum of current number 1 and previous number 0 is 1\n",
            "The sum of current number 2 and previous number 1 is 3\n",
            "The sum of current number 3 and previous number 2 is 5\n",
            "The sum of current number 4 and previous number 3 is 7\n",
            "The sum of current number 5 and previous number 4 is 9\n",
            "The sum of current number 6 and previous number 5 is 11\n",
            "The sum of current number 7 and previous number 6 is 13\n",
            "The sum of current number 8 and previous number 7 is 15\n",
            "The sum of current number 9 and previous number 8 is 17\n",
            "The sum of current number 10 and previous number 9 is 19\n"
          ],
          "name": "stdout"
        }
      ]
    },
    {
      "cell_type": "markdown",
      "metadata": {
        "id": "LHB4c1Kz_2pI"
      },
      "source": [
        "7. Divisible by 5"
      ]
    },
    {
      "cell_type": "code",
      "metadata": {
        "colab": {
          "base_uri": "https://localhost:8080/"
        },
        "id": "ZHEm-rsv_yDz",
        "outputId": "05bde688-2fd4-46f3-8262-0e245f08c5d3"
      },
      "source": [
        "#inputing number of elements\n",
        "num = int(input('Enter the number of elements: '))\n",
        "\n",
        "#creating list with number of elements\n",
        "r = range(num)\n",
        "\n",
        "#creating an empty list\n",
        "l1 = []\n",
        "\n",
        "#inputing the elements\n",
        "for i in r:\n",
        "    s = int(input('Enter the elements: '))\n",
        "    l1.append(s)\n",
        "    i += 1\n",
        "  \n",
        "#printing values divisible by 5\n",
        "for j in l1:\n",
        "    if j%5 == 0:\n",
        "        print(j, 'is divivisible by 5')\n",
        "    else:\n",
        "      print(j, 'is not divivisible by 5')"
      ],
      "execution_count": null,
      "outputs": [
        {
          "output_type": "stream",
          "text": [
            "Enter the number of elements: 6\n",
            "Enter the elements: 2\n",
            "Enter the elements: 5\n",
            "Enter the elements: 7\n",
            "Enter the elements: 8\n",
            "Enter the elements: 10\n",
            "Enter the elements: 15\n",
            "2 is not divivisible by 5\n",
            "5 is divivisible by 5\n",
            "7 is not divivisible by 5\n",
            "8 is not divivisible by 5\n",
            "10 is divivisible by 5\n",
            "15 is divivisible by 5\n"
          ],
          "name": "stdout"
        }
      ]
    },
    {
      "cell_type": "markdown",
      "metadata": {
        "id": "IIIN1VbfBzDT"
      },
      "source": [
        "8. Prime number"
      ]
    },
    {
      "cell_type": "code",
      "metadata": {
        "colab": {
          "base_uri": "https://localhost:8080/"
        },
        "id": "Jiosluq3AF0E",
        "outputId": "2568e3fb-2191-4bf8-91bb-98725b5cda8d"
      },
      "source": [
        "#inputing number\n",
        "num = int(input('Enter the number: '))\n",
        "\n",
        "#checking prime or not\n",
        "if num > 1:  \n",
        "   for i in range(2,num):  \n",
        "       if (num % i) == 0:  \n",
        "           print(num,\"is not a prime number\")  \n",
        "           break  \n",
        "   else:  \n",
        "       print(num,\"is a prime number\")  \n",
        "         \n",
        "else:  \n",
        "   print('The number is zero') "
      ],
      "execution_count": null,
      "outputs": [
        {
          "output_type": "stream",
          "text": [
            "Enter the number: 6\n",
            "6 is not a prime number\n"
          ],
          "name": "stdout"
        }
      ]
    },
    {
      "cell_type": "markdown",
      "metadata": {
        "id": "mDVibBQzB99Z"
      },
      "source": [
        "9. List reversing"
      ]
    },
    {
      "cell_type": "code",
      "metadata": {
        "colab": {
          "base_uri": "https://localhost:8080/"
        },
        "id": "tQc1gu9LCFla",
        "outputId": "15d5f859-1270-4e06-8fd9-ccc82d82e11e"
      },
      "source": [
        "l1 = []\n",
        "l2 = []\n",
        "\n",
        "num = int(input(\"Enter the number of list elements: \"))\n",
        "for i in range(1, num + 1):\n",
        "    value = int(input(\"Please enter the %d element of list : \" %i))\n",
        "    l1.append(value)\n",
        "\n",
        "print('\\nActual list', l1)\n",
        "l1.reverse()\n",
        "print(\"\\nReversed List =  \", l1)"
      ],
      "execution_count": null,
      "outputs": [
        {
          "output_type": "stream",
          "text": [
            "Enter the number of list elements: 5\n",
            "Please enter the 1 element of list : 1\n",
            "Please enter the 2 element of list : 2\n",
            "Please enter the 3 element of list : 3\n",
            "Please enter the 4 element of list : 4\n",
            "Please enter the 5 element of list : 5\n",
            "\n",
            "Actual list [1, 2, 3, 4, 5]\n",
            "\n",
            "Reversed List =   [5, 4, 3, 2, 1]\n"
          ],
          "name": "stdout"
        }
      ]
    },
    {
      "cell_type": "markdown",
      "metadata": {
        "id": "1MYrPXqJCLi5"
      },
      "source": [
        "10. Pattern printing"
      ]
    },
    {
      "cell_type": "code",
      "metadata": {
        "colab": {
          "base_uri": "https://localhost:8080/"
        },
        "id": "IupybTMoCPB5",
        "outputId": "69801668-56d0-4178-a514-d5114335f972"
      },
      "source": [
        "#inputting number of rows\n",
        "num = int(input(\"Enter the number of rows: \")) \n",
        " \n",
        "#outer loop to handle number of rows  \n",
        "for i in range(0, num):  \n",
        "    # inner loop to handle number of columns. values is changing according to outer loop  \n",
        "        for j in range(0, i + 1):  \n",
        "            # printing stars  \n",
        "            print(\"* \", end=\"\")       \n",
        "  \n",
        "        # ending line after each row  \n",
        "        print()"
      ],
      "execution_count": null,
      "outputs": [
        {
          "output_type": "stream",
          "text": [
            "Enter the number of rows: 5\n",
            "* \n",
            "* * \n",
            "* * * \n",
            "* * * * \n",
            "* * * * * \n"
          ],
          "name": "stdout"
        }
      ]
    },
    {
      "cell_type": "markdown",
      "metadata": {
        "id": "QSI6F2AXCZ9u"
      },
      "source": [
        "11. Maximum of numbers"
      ]
    },
    {
      "cell_type": "code",
      "metadata": {
        "colab": {
          "base_uri": "https://localhost:8080/"
        },
        "id": "xUHqiSIdCWvi",
        "outputId": "ab2452bd-bbca-4711-b637-11cc59d662f5"
      },
      "source": [
        "#inputing number of elements\n",
        "num = int(input('Enter the number of elements: '))\n",
        "\n",
        "#inputing elements\n",
        "r = range(1, num+1)\n",
        "l1 = []\n",
        "for i in r:\n",
        "    a = int(input('Enter the %d number:' %i))\n",
        "    l1.append(a)\n",
        "\n",
        "#finding max value\n",
        "print('\\nThe greatest number is ', max(l1))"
      ],
      "execution_count": null,
      "outputs": [
        {
          "output_type": "stream",
          "text": [
            "Enter the number of elements: 5\n",
            "Enter the 1 number:23\n",
            "Enter the 2 number:45\n",
            "Enter the 3 number:674\n",
            "Enter the 4 number:5678\n",
            "Enter the 5 number:23\n",
            "\n",
            "The greatest number is  5678\n"
          ],
          "name": "stdout"
        }
      ]
    },
    {
      "cell_type": "markdown",
      "metadata": {
        "id": "U2gH2D5yCuBX"
      },
      "source": [
        "12. Exponent function"
      ]
    },
    {
      "cell_type": "code",
      "metadata": {
        "colab": {
          "base_uri": "https://localhost:8080/"
        },
        "id": "n9IBleydCowV",
        "outputId": "5f3a7d1a-47f8-4c80-d4d7-c2ece5e1bfd7"
      },
      "source": [
        "#defining function\n",
        "def exponent(base,exp):\n",
        "    if(exp == 1):\n",
        "        return(base)\n",
        "    if(exp != 1):\n",
        "        return(base*exponent(base,exp-1))\n",
        "\n",
        "#inputing base and exponent values\n",
        "base = int(input(\"Enter base: \"))\n",
        "exp = int(input(\"Enter exponential value: \"))\n",
        "\n",
        "#printing result\n",
        "print(\"\\nResult:\", exponent(base,exp))"
      ],
      "execution_count": null,
      "outputs": [
        {
          "output_type": "stream",
          "text": [
            "Enter base: 2\n",
            "Enter exponential value: 3\n",
            "\n",
            "Result: 8\n"
          ],
          "name": "stdout"
        }
      ]
    },
    {
      "cell_type": "markdown",
      "metadata": {
        "id": "uVbPuOfvC6hP"
      },
      "source": [
        "13. Sum of cubes"
      ]
    },
    {
      "cell_type": "code",
      "metadata": {
        "colab": {
          "base_uri": "https://localhost:8080/"
        },
        "id": "iakh4l3zC33x",
        "outputId": "958b6e96-9bc1-479c-a915-032478338c40"
      },
      "source": [
        "#inputing number\n",
        "num = int(input('Enter the number: '))\n",
        "\n",
        "#creating list\n",
        "r = range(2,num)\n",
        "a = 1\n",
        "\n",
        "#calculation\n",
        "for i in r:\n",
        "    a = a + (i*i*i)\n",
        "print('Sum of cube of numbers is:', a)"
      ],
      "execution_count": null,
      "outputs": [
        {
          "output_type": "stream",
          "text": [
            "Enter the number: 4\n",
            "Sum of cube of numbers is: 36\n"
          ],
          "name": "stdout"
        }
      ]
    },
    {
      "cell_type": "markdown",
      "metadata": {
        "id": "E7X88khLDInW"
      },
      "source": [
        "14. Pattern printing (nested loop)"
      ]
    },
    {
      "cell_type": "code",
      "metadata": {
        "colab": {
          "base_uri": "https://localhost:8080/"
        },
        "id": "2McduwY1DGX1",
        "outputId": "feee1f4d-7192-4015-f45b-df468d776aa4"
      },
      "source": [
        "#inputing the number\n",
        "num = int(input('Enter the maximum * needed: '))\n",
        "\n",
        "for i in range(num):\n",
        "    for j in range(i):\n",
        "        print ('* ', end=\"\")\n",
        "    print('')\n",
        "\n",
        "for i in range(num,0,-1):\n",
        "    for j in range(i):\n",
        "        print('* ', end=\"\")\n",
        "    print('')"
      ],
      "execution_count": null,
      "outputs": [
        {
          "output_type": "stream",
          "text": [
            "Enter the maximum * needed: 5\n",
            "\n",
            "* \n",
            "* * \n",
            "* * * \n",
            "* * * * \n",
            "* * * * * \n",
            "* * * * \n",
            "* * * \n",
            "* * \n",
            "* \n"
          ],
          "name": "stdout"
        }
      ]
    },
    {
      "cell_type": "markdown",
      "metadata": {
        "id": "x43QgJt6DWkU"
      },
      "source": [
        "15. Fizz buzz"
      ]
    },
    {
      "cell_type": "code",
      "metadata": {
        "colab": {
          "base_uri": "https://localhost:8080/"
        },
        "id": "TPTMe3KgDaWb",
        "outputId": "15b6cf1f-9ca8-4fa2-9760-fe9078c12423"
      },
      "source": [
        "\n",
        "#inputing number of values\n",
        "num = int(input('Enter the limit: '))\n",
        "\n",
        "#creating list\n",
        "r = range(1, num)\n",
        "\n",
        "#program for fizzbuzz\n",
        "for fizzbuzz in r:\n",
        "    if fizzbuzz % 2 == 0 and fizzbuzz % 5 == 0:\n",
        "        print(\"FizzBuzz\")\n",
        "        continue\n",
        "    elif fizzbuzz % 2 == 0:\n",
        "        print(\"Fizz\")\n",
        "        continue\n",
        "    elif fizzbuzz % 5 == 0:\n",
        "        print(\"Buzz\")\n",
        "        continue\n",
        "    print(fizzbuzz)"
      ],
      "execution_count": null,
      "outputs": [
        {
          "output_type": "stream",
          "text": [
            "Enter the limit: 6\n",
            "1\n",
            "Fizz\n",
            "3\n",
            "Fizz\n",
            "Buzz\n"
          ],
          "name": "stdout"
        }
      ]
    },
    {
      "cell_type": "markdown",
      "metadata": {
        "id": "s4zwa5eADgiO"
      },
      "source": [
        "16. Most frequent number"
      ]
    },
    {
      "cell_type": "code",
      "metadata": {
        "colab": {
          "base_uri": "https://localhost:8080/"
        },
        "id": "OwWH7MQaDdLs",
        "outputId": "d26858ff-9217-4860-950a-007584ffe5e1"
      },
      "source": [
        "#defining function\n",
        "def most_frequent(n):\n",
        "    return max(set(n), key = n.count)\n",
        "  \n",
        "#inputing numbers\n",
        "l1 = []\n",
        "num = int(input('Enter the limit: '))\n",
        "r = range(1,num)\n",
        "for i in r:\n",
        "    a = int(input('Enter the %d number: ' %i))\n",
        "    l1.append(a)\n",
        "print('\\nThe most frequently occuring number is: ', most_frequent(l1))"
      ],
      "execution_count": null,
      "outputs": [
        {
          "output_type": "stream",
          "text": [
            "Enter the limit: 7\n",
            "Enter the 1 number: 1\n",
            "Enter the 2 number: 2\n",
            "Enter the 3 number: 3\n",
            "Enter the 4 number: 2\n",
            "Enter the 5 number: 3\n",
            "Enter the 6 number: 5\n",
            "\n",
            "The most frequently occuring number is:  2\n"
          ],
          "name": "stdout"
        }
      ]
    },
    {
      "cell_type": "markdown",
      "metadata": {
        "id": "seOru_eyDr3D"
      },
      "source": [
        "17. Sum of list elements"
      ]
    },
    {
      "cell_type": "code",
      "metadata": {
        "colab": {
          "base_uri": "https://localhost:8080/"
        },
        "id": "XXOL0KB8Dm32",
        "outputId": "d1cd3796-dd33-4589-acb6-02101d1ec8e9"
      },
      "source": [
        "#inputing values\n",
        "num = int(input('Enter number of list elements: '))\n",
        "\n",
        "#inputing list elements\n",
        "l1 = []\n",
        "r = range(1,num+1)\n",
        "for i in r:\n",
        "    a = int(input('Enter %d element of list: ' %i))\n",
        "    l1.append(a)\n",
        "    \n",
        "#calculating sum of elements in list\n",
        "sum1 = 0\n",
        "for j in l1:\n",
        "    sum1 = sum1 + j\n",
        "    \n",
        "print('\\nThe sum of elements in the list is', sum1)"
      ],
      "execution_count": null,
      "outputs": [
        {
          "output_type": "stream",
          "text": [
            "Enter number of list elements: 5\n",
            "Enter 1 element of list: 1\n",
            "Enter 2 element of list: 2\n",
            "Enter 3 element of list: 3\n",
            "Enter 4 element of list: 4\n",
            "Enter 5 element of list: 5\n",
            "\n",
            "The sum of elements in the list is 15\n"
          ],
          "name": "stdout"
        }
      ]
    },
    {
      "cell_type": "markdown",
      "metadata": {
        "id": "Z-WmS2oeD1Ti"
      },
      "source": [
        "18. Odd or even"
      ]
    },
    {
      "cell_type": "code",
      "metadata": {
        "colab": {
          "base_uri": "https://localhost:8080/"
        },
        "id": "gnrnceqaDxeG",
        "outputId": "829248c3-955e-4b1d-f345-f040f11f63e6"
      },
      "source": [
        "#taking numbers from 1 to 15\n",
        "num = range(1,16)\n",
        "\n",
        "#displaying each number is odd or even\n",
        "for i in num:\n",
        "    if i%2 == 0:\n",
        "        print(i, 'is even')\n",
        "    else:\n",
        "        print(i, 'is Odd')"
      ],
      "execution_count": null,
      "outputs": [
        {
          "output_type": "stream",
          "text": [
            "1 is Odd\n",
            "2 is even\n",
            "3 is Odd\n",
            "4 is even\n",
            "5 is Odd\n",
            "6 is even\n",
            "7 is Odd\n",
            "8 is even\n",
            "9 is Odd\n",
            "10 is even\n",
            "11 is Odd\n",
            "12 is even\n",
            "13 is Odd\n",
            "14 is even\n",
            "15 is Odd\n"
          ],
          "name": "stdout"
        }
      ]
    },
    {
      "cell_type": "markdown",
      "metadata": {
        "id": "qWDbHAVgEBra"
      },
      "source": [
        "19. Temperature"
      ]
    },
    {
      "cell_type": "code",
      "metadata": {
        "colab": {
          "base_uri": "https://localhost:8080/"
        },
        "id": "1PEJyet4D-8h",
        "outputId": "f534f6f0-4058-4514-c116-bc076c0209be"
      },
      "source": [
        "#inputing temperature\n",
        "far = float(input('Enter temperature in Fahrenheit: '))\n",
        "\n",
        "#converting to celsius\n",
        "cel = 0\n",
        "cel = (5/9)*(far-32)\n",
        "print('The temperaure in Celsius is:', cel)"
      ],
      "execution_count": null,
      "outputs": [
        {
          "output_type": "stream",
          "text": [
            "Enter temperature in Fahrenheit: 45\n",
            "The temperaure in Celsius is: 7.222222222222222\n"
          ],
          "name": "stdout"
        }
      ]
    },
    {
      "cell_type": "markdown",
      "metadata": {
        "id": "MvjkuWpdEUMu"
      },
      "source": [
        "20. Factorial using function"
      ]
    },
    {
      "cell_type": "code",
      "metadata": {
        "colab": {
          "base_uri": "https://localhost:8080/"
        },
        "id": "PcZqgxczEG5Z",
        "outputId": "ad7833c5-152c-4aa0-9a2d-3d97126e0bae"
      },
      "source": [
        "#defining factorial function\n",
        "def factorial(n):\n",
        "    if n == 0:\n",
        "        return 1\n",
        "    else:\n",
        "        return n * factorial(n-1)\n",
        "    \n",
        "#inputing value\n",
        "num = int(input(\"Input a number to compute the factiorial : \"))\n",
        "print('The factorial of ',num, 'is', factorial(num))"
      ],
      "execution_count": null,
      "outputs": [
        {
          "output_type": "stream",
          "text": [
            "Input a number to compute the factiorial : 5\n",
            "The factorial of  5 is 120\n"
          ],
          "name": "stdout"
        }
      ]
    }
  ]
}